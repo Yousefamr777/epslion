{
 "cells": [
  {
   "cell_type": "code",
   "execution_count": 1,
   "id": "23d6511f",
   "metadata": {},
   "outputs": [],
   "source": [
    "import nltk\n",
    "import re\n",
    "from nltk.corpus import stopwords"
   ]
  },
  {
   "cell_type": "code",
   "execution_count": 3,
   "id": "97dfe15a",
   "metadata": {},
   "outputs": [],
   "source": [
    "file = open(r\"C:\\\\Users\\\\Y\\\\Desktop\\\\nlp.txt\", 'r', encoding='utf-8')\n",
    "text = file.read()\n",
    "file.close() "
   ]
  },
  {
   "cell_type": "code",
   "execution_count": 4,
   "id": "7e7618bd",
   "metadata": {},
   "outputs": [
    {
     "name": "stdout",
     "output_type": "stream",
     "text": [
      "I am Yousef Amr, a student at the Faculty of Computer Science \n",
      "and Artificial Intelligence at Al-Ahram Canadian University, expecting to graduate in 2025.\n",
      "I have a strong background in AI and data analysis, with hands-on experience in projects like\n",
      "spam detection and data analysis using Power BI.\n",
      "Alongside my programming skills in Python, C++, and SQL\n",
      "I am passionate about developing machine learning models and solving problems with modern technologies.\n"
     ]
    }
   ],
   "source": [
    "print (text)"
   ]
  },
  {
   "cell_type": "code",
   "execution_count": 6,
   "id": "6cabe7c8",
   "metadata": {},
   "outputs": [
    {
     "name": "stderr",
     "output_type": "stream",
     "text": [
      "[nltk_data] Downloading package punkt to\n",
      "[nltk_data]     C:\\Users\\Y\\AppData\\Roaming\\nltk_data...\n",
      "[nltk_data]   Unzipping tokenizers\\punkt.zip.\n"
     ]
    },
    {
     "data": {
      "text/plain": [
       "True"
      ]
     },
     "execution_count": 6,
     "metadata": {},
     "output_type": "execute_result"
    }
   ],
   "source": [
    "import nltk\n",
    "nltk.download('punkt')\n"
   ]
  },
  {
   "cell_type": "code",
   "execution_count": 7,
   "id": "9070abba",
   "metadata": {},
   "outputs": [
    {
     "name": "stdout",
     "output_type": "stream",
     "text": [
      "['I', 'am', 'Yousef', 'Amr', ',', 'a', 'student', 'at', 'the', 'Faculty', 'of', 'Computer', 'Science', 'and', 'Artificial', 'Intelligence', 'at', 'Al-Ahram', 'Canadian', 'University', ',', 'expecting', 'to', 'graduate', 'in', '2025', '.', 'I', 'have', 'a', 'strong', 'background', 'in', 'AI', 'and', 'data', 'analysis', ',', 'with', 'hands-on', 'experience', 'in', 'projects', 'like', 'spam', 'detection', 'and', 'data', 'analysis', 'using', 'Power', 'BI', '.', 'Alongside', 'my', 'programming', 'skills', 'in', 'Python', ',', 'C++', ',', 'and', 'SQL', 'I', 'am', 'passionate', 'about', 'developing', 'machine', 'learning', 'models', 'and', 'solving', 'problems', 'with', 'modern', 'technologies', '.']\n"
     ]
    }
   ],
   "source": [
    "words = nltk.word_tokenize(text)\n",
    "print(words)"
   ]
  },
  {
   "cell_type": "code",
   "execution_count": 8,
   "id": "512d8974",
   "metadata": {},
   "outputs": [],
   "source": [
    "def clean_text(a, b, c, d, words):\n",
    "    stop_words = set(stopwords.words('english'))\n",
    "    \n",
    "    if a == 1 and b == 0 and c == 0 and d == 0:\n",
    "        # حذف stopwords\n",
    "        remov_stop_w = [word for word in words if word.lower() not in stop_words]\n",
    "        return ' '.join(remov_stop_w)\n",
    "    \n",
    "    elif a == 0 and b == 1 and c == 0 and d == 0:\n",
    "        # جعل النص lowercase\n",
    "        word_lower = [word.lower() for word in words]\n",
    "        return ' '.join(word_lower)\n",
    "    \n",
    "    elif a == 0 and b == 0 and c == 1 and d == 0:\n",
    "        # حذف الأرقام من النص\n",
    "        return re.sub(r'\\d+', '', ' '.join(words))\n",
    "    \n",
    "    elif a == 0 and b == 0 and c == 0 and d == 1:\n",
    "        # إزالة علامات الترقيم\n",
    "        for i in range(len(words)):\n",
    "            words[i] = re.sub(r\"[\\.!\\?',:;]+\", \"\", words[i])\n",
    "        return ' '.join(words)\n",
    "    \n",
    "    else:\n",
    "        return ' '.join(words)  \n",
    "\n"
   ]
  },
  {
   "cell_type": "code",
   "execution_count": 11,
   "id": "52e30301",
   "metadata": {},
   "outputs": [
    {
     "name": "stderr",
     "output_type": "stream",
     "text": [
      "[nltk_data] Downloading package stopwords to\n",
      "[nltk_data]     C:\\Users\\Y\\AppData\\Roaming\\nltk_data...\n",
      "[nltk_data]   Unzipping corpora\\stopwords.zip.\n"
     ]
    },
    {
     "data": {
      "text/plain": [
       "True"
      ]
     },
     "execution_count": 11,
     "metadata": {},
     "output_type": "execute_result"
    }
   ],
   "source": [
    "import nltk\n",
    "nltk.download('stopwords')\n"
   ]
  },
  {
   "cell_type": "code",
   "execution_count": 12,
   "id": "adc69ea9",
   "metadata": {},
   "outputs": [
    {
     "name": "stdout",
     "output_type": "stream",
     "text": [
      "Remove stop words: Yousef Amr , student Faculty Computer Science Artificial Intelligence Al-Ahram Canadian University , expecting graduate 2025 . strong background AI data analysis , hands-on experience projects like spam detection data analysis using Power BI . Alongside programming skills Python , C++ , SQL passionate developing machine learning models solving problems modern technologies .\n"
     ]
    }
   ],
   "source": [
    "cleaned_text = clean_text(1, 0, 0,0, words)\n",
    "print('Remove stop words: ' + cleaned_text)"
   ]
  },
  {
   "cell_type": "code",
   "execution_count": 13,
   "id": "b025f440",
   "metadata": {},
   "outputs": [
    {
     "name": "stdout",
     "output_type": "stream",
     "text": [
      "lowercase: i am yousef amr , a student at the faculty of computer science and artificial intelligence at al-ahram canadian university , expecting to graduate in 2025 . i have a strong background in ai and data analysis , with hands-on experience in projects like spam detection and data analysis using power bi . alongside my programming skills in python , c++ , and sql i am passionate about developing machine learning models and solving problems with modern technologies .\n"
     ]
    }
   ],
   "source": [
    "cleaned_text = clean_text(0, 1, 0,0,words)\n",
    "print('lowercase: ' + cleaned_text)"
   ]
  },
  {
   "cell_type": "code",
   "execution_count": 14,
   "id": "0904e46e",
   "metadata": {},
   "outputs": [
    {
     "name": "stdout",
     "output_type": "stream",
     "text": [
      "remove digits: I am Yousef Amr , a student at the Faculty of Computer Science and Artificial Intelligence at Al-Ahram Canadian University , expecting to graduate in  . I have a strong background in AI and data analysis , with hands-on experience in projects like spam detection and data analysis using Power BI . Alongside my programming skills in Python , C++ , and SQL I am passionate about developing machine learning models and solving problems with modern technologies .\n"
     ]
    }
   ],
   "source": [
    "cleaned_text = clean_text(0, 0, 1,0, words)\n",
    "print('remove digits: ' + cleaned_text)"
   ]
  },
  {
   "cell_type": "code",
   "execution_count": 15,
   "id": "19db4b42",
   "metadata": {},
   "outputs": [
    {
     "name": "stdout",
     "output_type": "stream",
     "text": [
      "remove punctuation: I am Yousef Amr  a student at the Faculty of Computer Science and Artificial Intelligence at Al-Ahram Canadian University  expecting to graduate in 2025  I have a strong background in AI and data analysis  with hands-on experience in projects like spam detection and data analysis using Power BI  Alongside my programming skills in Python  C++  and SQL I am passionate about developing machine learning models and solving problems with modern technologies \n"
     ]
    }
   ],
   "source": [
    "cleaned_text = clean_text(0, 0, 0,1, words)\n",
    "print('remove punctuation: ' + cleaned_text)"
   ]
  },
  {
   "cell_type": "code",
   "execution_count": null,
   "id": "4b9c64ff",
   "metadata": {},
   "outputs": [],
   "source": []
  }
 ],
 "metadata": {
  "kernelspec": {
   "display_name": "Python 3 (ipykernel)",
   "language": "python",
   "name": "python3"
  },
  "language_info": {
   "codemirror_mode": {
    "name": "ipython",
    "version": 3
   },
   "file_extension": ".py",
   "mimetype": "text/x-python",
   "name": "python",
   "nbconvert_exporter": "python",
   "pygments_lexer": "ipython3",
   "version": "3.10.9"
  }
 },
 "nbformat": 4,
 "nbformat_minor": 5
}
